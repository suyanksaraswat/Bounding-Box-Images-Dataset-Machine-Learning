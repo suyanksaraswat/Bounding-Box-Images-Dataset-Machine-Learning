{
 "cells": [
  {
   "cell_type": "code",
   "execution_count": 1,
   "metadata": {},
   "outputs": [
    {
     "name": "stderr",
     "output_type": "stream",
     "text": [
      "Using TensorFlow backend.\n"
     ]
    }
   ],
   "source": [
    "import pandas as pd\n",
    "import numpy as np\n",
    "import keras\n",
    "from PIL import Image\n",
    "import glob\n",
    "import tensorflow as tf\n",
    "from keras.models import Sequential\n",
    "from keras.layers import Dense, Dropout, Flatten\n",
    "from keras.layers import Conv2D, MaxPooling2D\n",
    "from keras.layers.normalization import BatchNormalization\n",
    "from keras import backend as K\n",
    "from sklearn.model_selection import train_test_split\n",
    "import os\n",
    "import sys"
   ]
  },
  {
   "cell_type": "code",
   "execution_count": 2,
   "metadata": {},
   "outputs": [],
   "source": [
    "from tqdm import tqdm\n",
    "from keras.preprocessing import image\n",
    "import pandas as pd"
   ]
  },
  {
   "cell_type": "code",
   "execution_count": 3,
   "metadata": {},
   "outputs": [],
   "source": [
    "train_csv = pd.read_csv('training.csv')"
   ]
  },
  {
   "cell_type": "code",
   "execution_count": 4,
   "metadata": {},
   "outputs": [],
   "source": [
    "# y_div = 480/224\n",
    "# x_div = 640/224"
   ]
  },
  {
   "cell_type": "code",
   "execution_count": 5,
   "metadata": {},
   "outputs": [],
   "source": [
    "# train_csv['x1'] = train_csv['x1']/x_div\n",
    "# train_csv['x2'] = train_csv['x2']/x_div\n",
    "# train_csv['y1'] = train_csv['y1']/y_div\n",
    "# train_csv['y2'] = train_csv['y2']/y_div"
   ]
  },
  {
   "cell_type": "code",
   "execution_count": 6,
   "metadata": {},
   "outputs": [],
   "source": [
    "y = []\n",
    "for i in range(train_csv.shape[0]):\n",
    "    lb = (train_csv['x1'].values[i], train_csv['x2'].values[i], train_csv['y1'].values[i], train_csv['y2'].values[i])\n",
    "    y.append(lb)"
   ]
  },
  {
   "cell_type": "code",
   "execution_count": 7,
   "metadata": {},
   "outputs": [],
   "source": [
    "y = np.stack(y, axis=0)"
   ]
  },
  {
   "cell_type": "code",
   "execution_count": 8,
   "metadata": {},
   "outputs": [
    {
     "data": {
      "text/plain": [
       "(640, -1)"
      ]
     },
     "execution_count": 8,
     "metadata": {},
     "output_type": "execute_result"
    }
   ],
   "source": [
    "y.max(), y.min()"
   ]
  },
  {
   "cell_type": "code",
   "execution_count": 9,
   "metadata": {},
   "outputs": [
    {
     "name": "stderr",
     "output_type": "stream",
     "text": [
      "100%|██████████| 14000/14000 [05:28<00:00, 42.66it/s]\n"
     ]
    }
   ],
   "source": [
    "train_image = []\n",
    "for i in tqdm(range(train_csv.shape[0])):\n",
    "    img = image.load_img('image/'+train_csv['image_name'][i])\n",
    "    img = image.img_to_array(img)\n",
    "    img = img/255\n",
    "    train_image.append(img)"
   ]
  },
  {
   "cell_type": "code",
   "execution_count": 10,
   "metadata": {},
   "outputs": [],
   "source": [
    "X = np.array(train_image)"
   ]
  },
  {
   "cell_type": "code",
   "execution_count": 11,
   "metadata": {},
   "outputs": [
    {
     "data": {
      "text/plain": [
       "(14000, 480, 640, 3)"
      ]
     },
     "execution_count": 11,
     "metadata": {},
     "output_type": "execute_result"
    }
   ],
   "source": [
    "X.shape"
   ]
  },
  {
   "cell_type": "code",
   "execution_count": 12,
   "metadata": {},
   "outputs": [
    {
     "data": {
      "text/plain": [
       "(14000, 4)"
      ]
     },
     "execution_count": 12,
     "metadata": {},
     "output_type": "execute_result"
    }
   ],
   "source": [
    "y.shape"
   ]
  },
  {
   "cell_type": "code",
   "execution_count": 13,
   "metadata": {},
   "outputs": [],
   "source": [
    "def iou(y_true, y_pred):\n",
    "    xi1 = max(y_true[0],y_pred[0])\n",
    "    yi1 = max(y_true[1],y_pred[1])\n",
    "    xi2 = min(y_true[2],y_pred[2])\n",
    "    yi2 = min(y_true[3],y_pred[3])\n",
    "    inter_area = (yi2-yi1)*(xi2-xi1)\n",
    "    y_true_area = (y_true[3]-y_true[1])*(y_true[2]-y_true[0])\n",
    "    y_pred_area = (y_pred[3]-y_pred[1])*(y_pred[2]-y_pred[0])\n",
    "    union_area = y_true_area+y_pred_area-inter_area\n",
    "    iou = inter_area/union_area\n",
    " \n",
    "    return iou"
   ]
  },
  {
   "cell_type": "code",
   "execution_count": 14,
   "metadata": {},
   "outputs": [],
   "source": [
    "def distance_error(y_true, y_pred):\n",
    "    return K.mean(K.sqrt(K.sum(K.square(y_pred - y_true), axis=1)), axis=0)"
   ]
  },
  {
   "cell_type": "code",
   "execution_count": 15,
   "metadata": {},
   "outputs": [],
   "source": [
    "def prediction_accuracy(y_test, predictions):\n",
    "    distance = y_test-predictions\n",
    "    count = 0\n",
    "    for dist in distance:\n",
    "        dist_x = dist[0]/49\n",
    "        dist_y = dist[0]/32.6\n",
    "        if  np.sqrt(dist_x*dist_x+ dist_y*dist_y) < 0.05:\n",
    "            count+=1\n",
    "    accuracy = float(count)/(y_test.shape[0])\n",
    "    return accuracy"
   ]
  },
  {
   "cell_type": "code",
   "execution_count": 16,
   "metadata": {},
   "outputs": [],
   "source": [
    "# from keras.applications.vgg16 import preprocess_input\n",
    "# X = preprocess_input(X, mode='tf')"
   ]
  },
  {
   "cell_type": "code",
   "execution_count": 16,
   "metadata": {},
   "outputs": [],
   "source": [
    "X_train, X_val, y_train, y_val = train_test_split(X,y, test_size=0.01, random_state=12)"
   ]
  },
  {
   "cell_type": "code",
   "execution_count": 17,
   "metadata": {},
   "outputs": [],
   "source": [
    "from keras.applications.vgg16 import VGG16"
   ]
  },
  {
   "cell_type": "code",
   "execution_count": null,
   "metadata": {},
   "outputs": [],
   "source": [
    "base_model = VGG16(weights='imagenet', include_top=False, input_shape=(480, 640, 3))"
   ]
  },
  {
   "cell_type": "code",
   "execution_count": 20,
   "metadata": {},
   "outputs": [
    {
     "data": {
      "text/plain": [
       "((12600, 7, 7, 512), (1400, 7, 7, 512))"
      ]
     },
     "execution_count": 20,
     "metadata": {},
     "output_type": "execute_result"
    }
   ],
   "source": [
    "X_train = base_model.predict(X_train)\n",
    "X_valid = base_model.predict(X_val)\n",
    "X_train.shape, X_valid.shape"
   ]
  },
  {
   "cell_type": "code",
   "execution_count": 21,
   "metadata": {},
   "outputs": [],
   "source": [
    "X_train = X_train.reshape(12600, 7*7*512)\n",
    "X_valid = X_valid.reshape(1400, 7*7*512)"
   ]
  },
  {
   "cell_type": "code",
   "execution_count": 22,
   "metadata": {},
   "outputs": [],
   "source": [
    "from keras.layers import InputLayer"
   ]
  },
  {
   "cell_type": "code",
   "execution_count": 30,
   "metadata": {},
   "outputs": [],
   "source": [
    "model = Sequential()\n",
    "model.add(InputLayer((7*7*512,)))\n",
    "model.add(Dense(units=2048, activation='relu'))\n",
    "model.add(Dense(units=1024, activation='relu'))\n",
    "model.add(Dense(units=512, activation='relu'))\n",
    "model.add(Dense(units=256, activation='relu'))\n",
    "model.add(Dense(units=128, activation='relu'))\n",
    "model.add(Dense(units=64, activation='relu'))\n",
    "model.add(Dense(units=32, activation='relu'))\n",
    "model.add(Dense(units=10, activation='relu'))\n",
    "model.add(Dense(4, activation='relu'))"
   ]
  },
  {
   "cell_type": "code",
   "execution_count": 23,
   "metadata": {},
   "outputs": [],
   "source": [
    "model = Sequential()\n",
    "model.add(Conv2D(16, kernel_size=(3, 3), activation='relu', padding='valid', strides=(2, 2),input_shape=(480,640,3)))\n",
    "model.add(MaxPooling2D(pool_size=(2, 2)))\n",
    "model.add(BatchNormalization())\n",
    "model.add(Conv2D(32, kernel_size=(4, 4), activation='relu',strides=(1, 1), padding='valid'))\n",
    "model.add(MaxPooling2D(pool_size=(2, 2)))\n",
    "model.add(BatchNormalization())\n",
    "model.add(Conv2D(64, kernel_size=(4, 4), activation='relu',strides=(1, 1), padding='valid'))\n",
    "model.add(MaxPooling2D(pool_size=(2, 2)))\n",
    "model.add(BatchNormalization())\n",
    "model.add(Conv2D(128, kernel_size=(4, 4), activation='relu',strides=(1, 1), padding='valid'))\n",
    "model.add(MaxPooling2D(pool_size=(2, 2)))\n",
    "model.add(BatchNormalization())\n",
    "model.add(Flatten())\n",
    "model.add(Dense(256, activation='relu'))\n",
    "model.add(BatchNormalization())\n",
    "model.add(Dense(128, activation='relu'))\n",
    "model.add(BatchNormalization())\n",
    "model.add(Dense(64, activation='relu'))\n",
    "model.add(BatchNormalization())\n",
    "model.add(Dense(16, activation='relu'))\n",
    "model.add(BatchNormalization())\n",
    "model.add(Dense(4, activation= 'relu'))"
   ]
  },
  {
   "cell_type": "code",
   "execution_count": 24,
   "metadata": {},
   "outputs": [
    {
     "name": "stdout",
     "output_type": "stream",
     "text": [
      "_________________________________________________________________\n",
      "Layer (type)                 Output Shape              Param #   \n",
      "=================================================================\n",
      "conv2d_5 (Conv2D)            (None, 239, 319, 16)      448       \n",
      "_________________________________________________________________\n",
      "max_pooling2d_5 (MaxPooling2 (None, 119, 159, 16)      0         \n",
      "_________________________________________________________________\n",
      "batch_normalization_9 (Batch (None, 119, 159, 16)      64        \n",
      "_________________________________________________________________\n",
      "conv2d_6 (Conv2D)            (None, 116, 156, 32)      8224      \n",
      "_________________________________________________________________\n",
      "max_pooling2d_6 (MaxPooling2 (None, 58, 78, 32)        0         \n",
      "_________________________________________________________________\n",
      "batch_normalization_10 (Batc (None, 58, 78, 32)        128       \n",
      "_________________________________________________________________\n",
      "conv2d_7 (Conv2D)            (None, 55, 75, 64)        32832     \n",
      "_________________________________________________________________\n",
      "max_pooling2d_7 (MaxPooling2 (None, 27, 37, 64)        0         \n",
      "_________________________________________________________________\n",
      "batch_normalization_11 (Batc (None, 27, 37, 64)        256       \n",
      "_________________________________________________________________\n",
      "conv2d_8 (Conv2D)            (None, 24, 34, 128)       131200    \n",
      "_________________________________________________________________\n",
      "max_pooling2d_8 (MaxPooling2 (None, 12, 17, 128)       0         \n",
      "_________________________________________________________________\n",
      "batch_normalization_12 (Batc (None, 12, 17, 128)       512       \n",
      "_________________________________________________________________\n",
      "flatten_2 (Flatten)          (None, 26112)             0         \n",
      "_________________________________________________________________\n",
      "dense_6 (Dense)              (None, 256)               6684928   \n",
      "_________________________________________________________________\n",
      "batch_normalization_13 (Batc (None, 256)               1024      \n",
      "_________________________________________________________________\n",
      "dense_7 (Dense)              (None, 128)               32896     \n",
      "_________________________________________________________________\n",
      "batch_normalization_14 (Batc (None, 128)               512       \n",
      "_________________________________________________________________\n",
      "dense_8 (Dense)              (None, 64)                8256      \n",
      "_________________________________________________________________\n",
      "batch_normalization_15 (Batc (None, 64)                256       \n",
      "_________________________________________________________________\n",
      "dense_9 (Dense)              (None, 16)                1040      \n",
      "_________________________________________________________________\n",
      "batch_normalization_16 (Batc (None, 16)                64        \n",
      "_________________________________________________________________\n",
      "dense_10 (Dense)             (None, 4)                 68        \n",
      "=================================================================\n",
      "Total params: 6,902,708\n",
      "Trainable params: 6,901,300\n",
      "Non-trainable params: 1,408\n",
      "_________________________________________________________________\n"
     ]
    }
   ],
   "source": [
    "model.summary()"
   ]
  },
  {
   "cell_type": "code",
   "execution_count": 25,
   "metadata": {},
   "outputs": [],
   "source": [
    "from keras.callbacks import ModelCheckpoint"
   ]
  },
  {
   "cell_type": "code",
   "execution_count": 26,
   "metadata": {},
   "outputs": [],
   "source": [
    "filepath=\"weight_1.hdf5\"\n",
    "checkpoint = ModelCheckpoint(filepath, monitor='val_loss', verbose=1, save_best_only=True, mode='min')\n",
    "callbacks_list = [checkpoint]"
   ]
  },
  {
   "cell_type": "code",
   "execution_count": 30,
   "metadata": {},
   "outputs": [],
   "source": [
    "model.compile(loss=[distance_error], optimizer=keras.optimizers.Adam(lr = 0.01), metrics=[distance_error])"
   ]
  },
  {
   "cell_type": "code",
   "execution_count": null,
   "metadata": {
    "scrolled": true
   },
   "outputs": [
    {
     "name": "stdout",
     "output_type": "stream",
     "text": [
      "Train on 13860 samples, validate on 140 samples\n",
      "Epoch 1/100\n",
      "13860/13860 [==============================] - 72s 5ms/step - loss: 400.4367 - distance_error: 400.4367 - val_loss: 628.7758 - val_distance_error: 628.7758\n",
      "\n",
      "Epoch 00001: val_loss improved from 668.18944 to 628.77585, saving model to weight_1.hdf5\n",
      "Epoch 2/100\n",
      "13860/13860 [==============================] - 71s 5ms/step - loss: 164.8613 - distance_error: 164.8613 - val_loss: 204.0538 - val_distance_error: 204.0538\n",
      "\n",
      "Epoch 00002: val_loss improved from 628.77585 to 204.05379, saving model to weight_1.hdf5\n",
      "Epoch 3/100\n",
      "13860/13860 [==============================] - 67s 5ms/step - loss: 144.4879 - distance_error: 144.4879 - val_loss: 171.9103 - val_distance_error: 171.9103\n",
      "\n",
      "Epoch 00003: val_loss improved from 204.05379 to 171.91032, saving model to weight_1.hdf5\n",
      "Epoch 4/100\n",
      "13860/13860 [==============================] - 66s 5ms/step - loss: 136.8964 - distance_error: 136.8964 - val_loss: 190.0057 - val_distance_error: 190.0057\n",
      "\n",
      "Epoch 00004: val_loss did not improve from 171.91032\n",
      "Epoch 5/100\n",
      "13860/13860 [==============================] - 67s 5ms/step - loss: 135.0523 - distance_error: 135.0523 - val_loss: 20791372.8419 - val_distance_error: 20791372.8419\n",
      "\n",
      "Epoch 00005: val_loss did not improve from 171.91032\n",
      "Epoch 6/100\n",
      "13860/13860 [==============================] - 66s 5ms/step - loss: 134.6945 - distance_error: 134.6945 - val_loss: 175.4725 - val_distance_error: 175.4725\n",
      "\n",
      "Epoch 00006: val_loss did not improve from 171.91032\n",
      "Epoch 7/100\n",
      "13860/13860 [==============================] - 67s 5ms/step - loss: 132.6602 - distance_error: 132.6602 - val_loss: 143.4579 - val_distance_error: 143.4579\n",
      "\n",
      "Epoch 00007: val_loss improved from 171.91032 to 143.45795, saving model to weight_1.hdf5\n",
      "Epoch 8/100\n",
      "13860/13860 [==============================] - 67s 5ms/step - loss: 132.4946 - distance_error: 132.4946 - val_loss: 144.0918 - val_distance_error: 144.0918\n",
      "\n",
      "Epoch 00008: val_loss did not improve from 143.45795\n",
      "Epoch 9/100\n",
      "13860/13860 [==============================] - 67s 5ms/step - loss: 130.9607 - distance_error: 130.9607 - val_loss: 781505.8873 - val_distance_error: 781505.8873\n",
      "\n",
      "Epoch 00009: val_loss did not improve from 143.45795\n",
      "Epoch 10/100\n",
      "13860/13860 [==============================] - 66s 5ms/step - loss: 129.8228 - distance_error: 129.8228 - val_loss: 176.4098 - val_distance_error: 176.4098\n",
      "\n",
      "Epoch 00010: val_loss did not improve from 143.45795\n",
      "Epoch 11/100\n",
      "13860/13860 [==============================] - 69s 5ms/step - loss: 128.9246 - distance_error: 128.9246 - val_loss: 118299.3665 - val_distance_error: 118299.3665\n",
      "\n",
      "Epoch 00011: val_loss did not improve from 143.45795\n",
      "Epoch 12/100\n",
      "13860/13860 [==============================] - 67s 5ms/step - loss: 129.1218 - distance_error: 129.1218 - val_loss: 213.9691 - val_distance_error: 213.9691\n",
      "\n",
      "Epoch 00012: val_loss did not improve from 143.45795\n",
      "Epoch 13/100\n",
      "13860/13860 [==============================] - 68s 5ms/step - loss: 128.4386 - distance_error: 128.4386 - val_loss: 166.1319 - val_distance_error: 166.1319\n",
      "\n",
      "Epoch 00013: val_loss did not improve from 143.45795\n",
      "Epoch 14/100\n",
      "13860/13860 [==============================] - 66s 5ms/step - loss: 127.6823 - distance_error: 127.6823 - val_loss: 208476150.7732 - val_distance_error: 208476150.7732\n",
      "\n",
      "Epoch 00014: val_loss did not improve from 143.45795\n",
      "Epoch 15/100\n",
      "13860/13860 [==============================] - 66s 5ms/step - loss: 127.8446 - distance_error: 127.8446 - val_loss: 134.2873 - val_distance_error: 134.2873\n",
      "\n",
      "Epoch 00015: val_loss improved from 143.45795 to 134.28729, saving model to weight_1.hdf5\n",
      "Epoch 16/100\n",
      "13860/13860 [==============================] - 67s 5ms/step - loss: 128.4900 - distance_error: 128.4900 - val_loss: 10881479826.2857 - val_distance_error: 10881479826.2857\n",
      "\n",
      "Epoch 00016: val_loss did not improve from 134.28729\n",
      "Epoch 17/100\n",
      "13860/13860 [==============================] - 67s 5ms/step - loss: 129.3111 - distance_error: 129.3111 - val_loss: 525191263.8803 - val_distance_error: 525191263.8803\n",
      "\n",
      "Epoch 00017: val_loss did not improve from 134.28729\n",
      "Epoch 18/100\n",
      "13860/13860 [==============================] - 66s 5ms/step - loss: 128.6669 - distance_error: 128.6669 - val_loss: 147.6613 - val_distance_error: 147.6613\n",
      "\n",
      "Epoch 00018: val_loss did not improve from 134.28729\n",
      "Epoch 19/100\n",
      "13860/13860 [==============================] - 65s 5ms/step - loss: 128.9307 - distance_error: 128.9307 - val_loss: 157.1071 - val_distance_error: 157.1071\n",
      "\n",
      "Epoch 00019: val_loss did not improve from 134.28729\n",
      "Epoch 20/100\n",
      "13860/13860 [==============================] - 48s 3ms/step - loss: 129.1300 - distance_error: 129.1300 - val_loss: 139.5192 - val_distance_error: 139.5192\n",
      "\n",
      "Epoch 00020: val_loss did not improve from 134.28729\n",
      "Epoch 21/100\n",
      "13860/13860 [==============================] - 33s 2ms/step - loss: 127.3655 - distance_error: 127.3655 - val_loss: 137.9017 - val_distance_error: 137.9017\n",
      "\n",
      "Epoch 00021: val_loss did not improve from 134.28729\n",
      "Epoch 22/100\n",
      "13860/13860 [==============================] - 33s 2ms/step - loss: 126.5462 - distance_error: 126.5462 - val_loss: 306.6474 - val_distance_error: 306.6474\n",
      "\n",
      "Epoch 00022: val_loss did not improve from 134.28729\n",
      "Epoch 23/100\n",
      "13860/13860 [==============================] - 33s 2ms/step - loss: 126.1333 - distance_error: 126.1333 - val_loss: 141.9055 - val_distance_error: 141.9055\n",
      "\n",
      "Epoch 00023: val_loss did not improve from 134.28729\n",
      "Epoch 24/100\n",
      "13860/13860 [==============================] - 33s 2ms/step - loss: 125.7009 - distance_error: 125.7009 - val_loss: 19268.5494 - val_distance_error: 19268.5494\n",
      "\n",
      "Epoch 00024: val_loss did not improve from 134.28729\n",
      "Epoch 25/100\n",
      "13860/13860 [==============================] - 33s 2ms/step - loss: 108.8170 - distance_error: 108.8170 - val_loss: 680.2861 - val_distance_error: 680.2861\n",
      "\n",
      "Epoch 00025: val_loss did not improve from 134.28729\n",
      "Epoch 26/100\n",
      "13860/13860 [==============================] - 33s 2ms/step - loss: 55.5125 - distance_error: 55.5125 - val_loss: 319.9371 - val_distance_error: 319.9371\n",
      "\n",
      "Epoch 00026: val_loss did not improve from 134.28729\n",
      "Epoch 27/100\n",
      "13860/13860 [==============================] - 33s 2ms/step - loss: 45.3712 - distance_error: 45.3712 - val_loss: 52.8444 - val_distance_error: 52.8444\n",
      "\n",
      "Epoch 00027: val_loss improved from 134.28729 to 52.84437, saving model to weight_1.hdf5\n",
      "Epoch 28/100\n",
      "13860/13860 [==============================] - 33s 2ms/step - loss: 56.1153 - distance_error: 56.1153 - val_loss: 161.2713 - val_distance_error: 161.2713\n",
      "\n",
      "Epoch 00028: val_loss did not improve from 52.84437\n",
      "Epoch 29/100\n",
      "13860/13860 [==============================] - 33s 2ms/step - loss: 50.8991 - distance_error: 50.8991 - val_loss: 14492.7895 - val_distance_error: 14492.7895\n",
      "\n",
      "Epoch 00029: val_loss did not improve from 52.84437\n",
      "Epoch 30/100\n",
      "13860/13860 [==============================] - 33s 2ms/step - loss: 46.3458 - distance_error: 46.3458 - val_loss: 653.5796 - val_distance_error: 653.5796\n",
      "\n",
      "Epoch 00030: val_loss did not improve from 52.84437\n",
      "Epoch 31/100\n",
      "13860/13860 [==============================] - 33s 2ms/step - loss: 44.0993 - distance_error: 44.0993 - val_loss: 99.8920 - val_distance_error: 99.8920\n",
      "\n",
      "Epoch 00031: val_loss did not improve from 52.84437\n",
      "Epoch 32/100\n",
      "13860/13860 [==============================] - 33s 2ms/step - loss: 44.9762 - distance_error: 44.9762 - val_loss: 152.9641 - val_distance_error: 152.9641\n",
      "\n",
      "Epoch 00032: val_loss did not improve from 52.84437\n",
      "Epoch 33/100\n",
      "13860/13860 [==============================] - 33s 2ms/step - loss: 47.2864 - distance_error: 47.2864 - val_loss: 120.5137 - val_distance_error: 120.5137\n",
      "\n",
      "Epoch 00033: val_loss did not improve from 52.84437\n",
      "Epoch 34/100\n",
      "13860/13860 [==============================] - 33s 2ms/step - loss: 43.8297 - distance_error: 43.8297 - val_loss: 130.7808 - val_distance_error: 130.7808\n",
      "\n",
      "Epoch 00034: val_loss did not improve from 52.84437\n",
      "Epoch 35/100\n",
      "13860/13860 [==============================] - 33s 2ms/step - loss: 43.0471 - distance_error: 43.0471 - val_loss: 66.7281 - val_distance_error: 66.7281\n",
      "\n",
      "Epoch 00035: val_loss did not improve from 52.84437\n",
      "Epoch 36/100\n"
     ]
    },
    {
     "name": "stdout",
     "output_type": "stream",
     "text": [
      "13860/13860 [==============================] - 33s 2ms/step - loss: 42.4046 - distance_error: 42.4046 - val_loss: 47.6620 - val_distance_error: 47.6620\n",
      "\n",
      "Epoch 00036: val_loss improved from 52.84437 to 47.66198, saving model to weight_1.hdf5\n",
      "Epoch 37/100\n",
      "13860/13860 [==============================] - 33s 2ms/step - loss: 41.3910 - distance_error: 41.3910 - val_loss: 598.6426 - val_distance_error: 598.6426\n",
      "\n",
      "Epoch 00037: val_loss did not improve from 47.66198\n",
      "Epoch 38/100\n",
      "13860/13860 [==============================] - 33s 2ms/step - loss: 40.7864 - distance_error: 40.7864 - val_loss: 44.3255 - val_distance_error: 44.3255\n",
      "\n",
      "Epoch 00038: val_loss improved from 47.66198 to 44.32546, saving model to weight_1.hdf5\n",
      "Epoch 39/100\n",
      "13860/13860 [==============================] - 33s 2ms/step - loss: 38.9358 - distance_error: 38.9358 - val_loss: 45.9409 - val_distance_error: 45.9409\n",
      "\n",
      "Epoch 00039: val_loss did not improve from 44.32546\n",
      "Epoch 40/100\n",
      "13860/13860 [==============================] - 33s 2ms/step - loss: 38.6562 - distance_error: 38.6562 - val_loss: 15886.2270 - val_distance_error: 15886.2270\n",
      "\n",
      "Epoch 00040: val_loss did not improve from 44.32546\n",
      "Epoch 41/100\n",
      "13860/13860 [==============================] - 33s 2ms/step - loss: 38.1684 - distance_error: 38.1684 - val_loss: 44.9796 - val_distance_error: 44.9796\n",
      "\n",
      "Epoch 00041: val_loss did not improve from 44.32546\n",
      "Epoch 42/100\n",
      "13860/13860 [==============================] - 33s 2ms/step - loss: 38.0198 - distance_error: 38.0198 - val_loss: 279.3395 - val_distance_error: 279.3395\n",
      "\n",
      "Epoch 00042: val_loss did not improve from 44.32546\n",
      "Epoch 43/100\n",
      "13860/13860 [==============================] - 33s 2ms/step - loss: 37.3163 - distance_error: 37.3163 - val_loss: 680.2861 - val_distance_error: 680.2861\n",
      "\n",
      "Epoch 00043: val_loss did not improve from 44.32546\n",
      "Epoch 44/100\n",
      "13860/13860 [==============================] - 33s 2ms/step - loss: 36.7210 - distance_error: 36.7210 - val_loss: 48.0835 - val_distance_error: 48.0835\n",
      "\n",
      "Epoch 00044: val_loss did not improve from 44.32546\n",
      "Epoch 45/100\n",
      "13860/13860 [==============================] - 33s 2ms/step - loss: 35.8816 - distance_error: 35.8816 - val_loss: 45.2516 - val_distance_error: 45.2516\n",
      "\n",
      "Epoch 00045: val_loss did not improve from 44.32546\n",
      "Epoch 46/100\n",
      "13860/13860 [==============================] - 33s 2ms/step - loss: 38.3777 - distance_error: 38.3777 - val_loss: 43.1844 - val_distance_error: 43.1844\n",
      "\n",
      "Epoch 00046: val_loss improved from 44.32546 to 43.18440, saving model to weight_1.hdf5\n",
      "Epoch 47/100\n",
      "13860/13860 [==============================] - 33s 2ms/step - loss: 36.1405 - distance_error: 36.1405 - val_loss: 91.4764 - val_distance_error: 91.4764\n",
      "\n",
      "Epoch 00047: val_loss did not improve from 43.18440\n",
      "Epoch 48/100\n",
      "13860/13860 [==============================] - 33s 2ms/step - loss: 35.2722 - distance_error: 35.2722 - val_loss: 85.6059 - val_distance_error: 85.6059\n",
      "\n",
      "Epoch 00048: val_loss did not improve from 43.18440\n",
      "Epoch 49/100\n",
      "13860/13860 [==============================] - 33s 2ms/step - loss: 34.4293 - distance_error: 34.4293 - val_loss: 680.2861 - val_distance_error: 680.2861\n",
      "\n",
      "Epoch 00049: val_loss did not improve from 43.18440\n",
      "Epoch 50/100\n",
      "13860/13860 [==============================] - 33s 2ms/step - loss: 35.4268 - distance_error: 35.4268 - val_loss: 106.0910 - val_distance_error: 106.0910\n",
      "\n",
      "Epoch 00050: val_loss did not improve from 43.18440\n",
      "Epoch 51/100\n",
      "13860/13860 [==============================] - 33s 2ms/step - loss: 34.7268 - distance_error: 34.7268 - val_loss: 216.0295 - val_distance_error: 216.0295\n",
      "\n",
      "Epoch 00051: val_loss did not improve from 43.18440\n",
      "Epoch 52/100\n",
      "13860/13860 [==============================] - 33s 2ms/step - loss: 33.2985 - distance_error: 33.2985 - val_loss: 44.3003 - val_distance_error: 44.3003\n",
      "\n",
      "Epoch 00052: val_loss did not improve from 43.18440\n",
      "Epoch 53/100\n",
      "13860/13860 [==============================] - 33s 2ms/step - loss: 33.6985 - distance_error: 33.6985 - val_loss: 680.2861 - val_distance_error: 680.2861\n",
      "\n",
      "Epoch 00053: val_loss did not improve from 43.18440\n",
      "Epoch 54/100\n",
      "13860/13860 [==============================] - 33s 2ms/step - loss: 32.4804 - distance_error: 32.4804 - val_loss: 680.2861 - val_distance_error: 680.2861\n",
      "\n",
      "Epoch 00054: val_loss did not improve from 43.18440\n",
      "Epoch 55/100\n",
      "13860/13860 [==============================] - 33s 2ms/step - loss: 35.3879 - distance_error: 35.3879 - val_loss: 105.2578 - val_distance_error: 105.2578\n",
      "\n",
      "Epoch 00055: val_loss did not improve from 43.18440\n",
      "Epoch 56/100\n",
      "13860/13860 [==============================] - 33s 2ms/step - loss: 33.7260 - distance_error: 33.7260 - val_loss: 75.9005 - val_distance_error: 75.9005\n",
      "\n",
      "Epoch 00056: val_loss did not improve from 43.18440\n",
      "Epoch 57/100\n",
      "13860/13860 [==============================] - 33s 2ms/step - loss: 33.7407 - distance_error: 33.7407 - val_loss: 78.7456 - val_distance_error: 78.7456\n",
      "\n",
      "Epoch 00057: val_loss did not improve from 43.18440\n",
      "Epoch 58/100\n",
      "13860/13860 [==============================] - 33s 2ms/step - loss: 35.2080 - distance_error: 35.2080 - val_loss: 122.9331 - val_distance_error: 122.9331\n",
      "\n",
      "Epoch 00058: val_loss did not improve from 43.18440\n",
      "Epoch 59/100\n",
      "13860/13860 [==============================] - 33s 2ms/step - loss: 34.1773 - distance_error: 34.1773 - val_loss: 43.0165 - val_distance_error: 43.0165\n",
      "\n",
      "Epoch 00059: val_loss improved from 43.18440 to 43.01655, saving model to weight_1.hdf5\n",
      "Epoch 60/100\n",
      "13860/13860 [==============================] - 33s 2ms/step - loss: 31.5521 - distance_error: 31.5521 - val_loss: 41.9720 - val_distance_error: 41.9720\n",
      "\n",
      "Epoch 00060: val_loss improved from 43.01655 to 41.97200, saving model to weight_1.hdf5\n",
      "Epoch 61/100\n",
      "13860/13860 [==============================] - 33s 2ms/step - loss: 31.4373 - distance_error: 31.4373 - val_loss: 40.7986 - val_distance_error: 40.7986\n",
      "\n",
      "Epoch 00061: val_loss improved from 41.97200 to 40.79856, saving model to weight_1.hdf5\n",
      "Epoch 62/100\n",
      "13860/13860 [==============================] - 33s 2ms/step - loss: 31.2356 - distance_error: 31.2356 - val_loss: 197.4467 - val_distance_error: 197.4467\n",
      "\n",
      "Epoch 00062: val_loss did not improve from 40.79856\n",
      "Epoch 63/100\n",
      "13860/13860 [==============================] - 33s 2ms/step - loss: 30.9866 - distance_error: 30.9866 - val_loss: 53.3203 - val_distance_error: 53.3203\n",
      "\n",
      "Epoch 00063: val_loss did not improve from 40.79856\n",
      "Epoch 64/100\n",
      "13860/13860 [==============================] - 33s 2ms/step - loss: 30.5303 - distance_error: 30.5303 - val_loss: 54.5204 - val_distance_error: 54.5204\n",
      "\n",
      "Epoch 00064: val_loss did not improve from 40.79856\n",
      "Epoch 65/100\n",
      "13860/13860 [==============================] - 33s 2ms/step - loss: 30.3410 - distance_error: 30.3410 - val_loss: 48.1931 - val_distance_error: 48.1931\n",
      "\n",
      "Epoch 00065: val_loss did not improve from 40.79856\n",
      "Epoch 66/100\n",
      "13860/13860 [==============================] - 33s 2ms/step - loss: 30.7863 - distance_error: 30.7863 - val_loss: 45.1567 - val_distance_error: 45.1567\n",
      "\n",
      "Epoch 00066: val_loss did not improve from 40.79856\n",
      "Epoch 67/100\n",
      "13860/13860 [==============================] - 33s 2ms/step - loss: 30.4680 - distance_error: 30.4680 - val_loss: 54.3641 - val_distance_error: 54.3641\n",
      "\n",
      "Epoch 00067: val_loss did not improve from 40.79856\n",
      "Epoch 68/100\n",
      "13860/13860 [==============================] - 33s 2ms/step - loss: 29.6958 - distance_error: 29.6958 - val_loss: 41.0102 - val_distance_error: 41.0102\n",
      "\n",
      "Epoch 00068: val_loss did not improve from 40.79856\n",
      "Epoch 69/100\n",
      "13860/13860 [==============================] - 33s 2ms/step - loss: 29.8686 - distance_error: 29.8686 - val_loss: 91.9348 - val_distance_error: 91.9348\n",
      "\n",
      "Epoch 00069: val_loss did not improve from 40.79856\n",
      "Epoch 70/100\n",
      "13860/13860 [==============================] - 33s 2ms/step - loss: 29.1482 - distance_error: 29.1482 - val_loss: 53.2015 - val_distance_error: 53.2015\n",
      "\n",
      "Epoch 00070: val_loss did not improve from 40.79856\n",
      "Epoch 71/100\n",
      "13860/13860 [==============================] - 33s 2ms/step - loss: 28.9558 - distance_error: 28.9558 - val_loss: 49.5055 - val_distance_error: 49.5055\n",
      "\n",
      "Epoch 00071: val_loss did not improve from 40.79856\n",
      "Epoch 72/100\n",
      "13860/13860 [==============================] - 33s 2ms/step - loss: 28.4950 - distance_error: 28.4950 - val_loss: 520.1795 - val_distance_error: 520.1795\n"
     ]
    },
    {
     "name": "stdout",
     "output_type": "stream",
     "text": [
      "\n",
      "Epoch 00072: val_loss did not improve from 40.79856\n",
      "Epoch 73/100\n",
      "13860/13860 [==============================] - 33s 2ms/step - loss: 29.0320 - distance_error: 29.0320 - val_loss: 59.5698 - val_distance_error: 59.5698\n",
      "\n",
      "Epoch 00073: val_loss did not improve from 40.79856\n",
      "Epoch 74/100\n",
      "13860/13860 [==============================] - 33s 2ms/step - loss: 27.8088 - distance_error: 27.8088 - val_loss: 53.0962 - val_distance_error: 53.0962\n",
      "\n",
      "Epoch 00074: val_loss did not improve from 40.79856\n",
      "Epoch 75/100\n",
      "13860/13860 [==============================] - 33s 2ms/step - loss: 28.9260 - distance_error: 28.9260 - val_loss: 67.5610 - val_distance_error: 67.5610\n",
      "\n",
      "Epoch 00075: val_loss did not improve from 40.79856\n",
      "Epoch 76/100\n",
      "13860/13860 [==============================] - 33s 2ms/step - loss: 28.3480 - distance_error: 28.3480 - val_loss: 49.0138 - val_distance_error: 49.0138\n",
      "\n",
      "Epoch 00076: val_loss did not improve from 40.79856\n",
      "Epoch 77/100\n",
      "13860/13860 [==============================] - 33s 2ms/step - loss: 28.3601 - distance_error: 28.3601 - val_loss: 47.2879 - val_distance_error: 47.2879\n",
      "\n",
      "Epoch 00077: val_loss did not improve from 40.79856\n",
      "Epoch 78/100\n",
      "13860/13860 [==============================] - 33s 2ms/step - loss: 27.1867 - distance_error: 27.1867 - val_loss: 58.5920 - val_distance_error: 58.5920\n",
      "\n",
      "Epoch 00078: val_loss did not improve from 40.79856\n",
      "Epoch 79/100\n",
      "13860/13860 [==============================] - 33s 2ms/step - loss: 28.1778 - distance_error: 28.1778 - val_loss: 43.1704 - val_distance_error: 43.1704\n",
      "\n",
      "Epoch 00079: val_loss did not improve from 40.79856\n",
      "Epoch 80/100\n",
      "13860/13860 [==============================] - 33s 2ms/step - loss: 27.2782 - distance_error: 27.2782 - val_loss: 54.3983 - val_distance_error: 54.3983\n",
      "\n",
      "Epoch 00080: val_loss did not improve from 40.79856\n",
      "Epoch 81/100\n",
      "13860/13860 [==============================] - 33s 2ms/step - loss: 26.8913 - distance_error: 26.8913 - val_loss: 85.6962 - val_distance_error: 85.6962\n",
      "\n",
      "Epoch 00081: val_loss did not improve from 40.79856\n",
      "Epoch 82/100\n",
      "13860/13860 [==============================] - 33s 2ms/step - loss: 26.5506 - distance_error: 26.5506 - val_loss: 44.0663 - val_distance_error: 44.0663\n",
      "\n",
      "Epoch 00082: val_loss did not improve from 40.79856\n",
      "Epoch 83/100\n",
      "13860/13860 [==============================] - 33s 2ms/step - loss: 27.8251 - distance_error: 27.8251 - val_loss: 278.6011 - val_distance_error: 278.6011\n",
      "\n",
      "Epoch 00083: val_loss did not improve from 40.79856\n",
      "Epoch 84/100\n",
      "13860/13860 [==============================] - 32s 2ms/step - loss: 27.2527 - distance_error: 27.2527 - val_loss: 675.4556 - val_distance_error: 675.4556\n",
      "\n",
      "Epoch 00084: val_loss did not improve from 40.79856\n",
      "Epoch 85/100\n",
      "13860/13860 [==============================] - 32s 2ms/step - loss: 27.3239 - distance_error: 27.3239 - val_loss: 304.9536 - val_distance_error: 304.9536\n",
      "\n",
      "Epoch 00085: val_loss did not improve from 40.79856\n",
      "Epoch 86/100\n",
      "13860/13860 [==============================] - 33s 2ms/step - loss: 25.9911 - distance_error: 25.9911 - val_loss: 56.0261 - val_distance_error: 56.0261\n",
      "\n",
      "Epoch 00086: val_loss did not improve from 40.79856\n",
      "Epoch 87/100\n",
      "13860/13860 [==============================] - 32s 2ms/step - loss: 26.3564 - distance_error: 26.3564 - val_loss: 564.7297 - val_distance_error: 564.7297\n",
      "\n",
      "Epoch 00087: val_loss did not improve from 40.79856\n",
      "Epoch 88/100\n",
      "13860/13860 [==============================] - 33s 2ms/step - loss: 26.7019 - distance_error: 26.7019 - val_loss: 584.0427 - val_distance_error: 584.0427\n",
      "\n",
      "Epoch 00088: val_loss did not improve from 40.79856\n",
      "Epoch 89/100\n",
      "13860/13860 [==============================] - 48s 3ms/step - loss: 27.3323 - distance_error: 27.3323 - val_loss: 106.7587 - val_distance_error: 106.7587\n",
      "\n",
      "Epoch 00089: val_loss did not improve from 40.79856\n",
      "Epoch 90/100\n",
      "13860/13860 [==============================] - 44s 3ms/step - loss: 26.7571 - distance_error: 26.7571 - val_loss: 42.1451 - val_distance_error: 42.1451\n",
      "\n",
      "Epoch 00090: val_loss did not improve from 40.79856\n",
      "Epoch 91/100\n",
      "13860/13860 [==============================] - 88s 6ms/step - loss: 26.5278 - distance_error: 26.5278 - val_loss: 45.5588 - val_distance_error: 45.5588\n",
      "\n",
      "Epoch 00091: val_loss did not improve from 40.79856\n",
      "Epoch 92/100\n",
      "13860/13860 [==============================] - 65s 5ms/step - loss: 26.9236 - distance_error: 26.9236 - val_loss: 49.3948 - val_distance_error: 49.3948\n",
      "\n",
      "Epoch 00092: val_loss did not improve from 40.79856\n",
      "Epoch 93/100\n",
      "13860/13860 [==============================] - 59s 4ms/step - loss: 26.5865 - distance_error: 26.5865 - val_loss: 106.4555 - val_distance_error: 106.4555\n",
      "\n",
      "Epoch 00093: val_loss did not improve from 40.79856\n",
      "Epoch 94/100\n",
      "13860/13860 [==============================] - 51s 4ms/step - loss: 25.7542 - distance_error: 25.7542 - val_loss: 44.2292 - val_distance_error: 44.2292\n",
      "\n",
      "Epoch 00094: val_loss did not improve from 40.79856\n",
      "Epoch 95/100\n",
      "13860/13860 [==============================] - 50s 4ms/step - loss: 26.1515 - distance_error: 26.1515 - val_loss: 258.8884 - val_distance_error: 258.8884\n",
      "\n",
      "Epoch 00095: val_loss did not improve from 40.79856\n",
      "Epoch 96/100\n",
      "13860/13860 [==============================] - 42s 3ms/step - loss: 26.3690 - distance_error: 26.3690 - val_loss: 55.3186 - val_distance_error: 55.3186\n",
      "\n",
      "Epoch 00096: val_loss did not improve from 40.79856\n",
      "Epoch 97/100\n",
      " 4288/13860 [========>.....................] - ETA: 24s - loss: 24.7968 - distance_error: 24.7968"
     ]
    }
   ],
   "source": [
    "model.fit(X_train, y_train, epochs=100, verbose=1, validation_data=(X_val, y_val), callbacks=callbacks_list)"
   ]
  },
  {
   "cell_type": "code",
   "execution_count": 39,
   "metadata": {},
   "outputs": [],
   "source": [
    "model.load_weights(\"weight_1.hdf5\")"
   ]
  },
  {
   "cell_type": "code",
   "execution_count": 40,
   "metadata": {},
   "outputs": [
    {
     "data": {
      "text/plain": [
       "(224, 224, 3)"
      ]
     },
     "execution_count": 40,
     "metadata": {},
     "output_type": "execute_result"
    }
   ],
   "source": [
    "X_val[1].shape"
   ]
  },
  {
   "cell_type": "code",
   "execution_count": 42,
   "metadata": {},
   "outputs": [],
   "source": [
    "a = model.predict(np.expand_dims(X_valid[100],axis=0))"
   ]
  },
  {
   "cell_type": "code",
   "execution_count": 43,
   "metadata": {},
   "outputs": [
    {
     "data": {
      "text/plain": [
       "array([[ 40.481537, 186.07713 ,   0.      , 188.8379  ]], dtype=float32)"
      ]
     },
     "execution_count": 43,
     "metadata": {},
     "output_type": "execute_result"
    }
   ],
   "source": [
    "a"
   ]
  },
  {
   "cell_type": "code",
   "execution_count": 45,
   "metadata": {},
   "outputs": [
    {
     "data": {
      "text/plain": [
       "array([102.55      , 151.9       ,  12.13333333, 216.06666667])"
      ]
     },
     "execution_count": 45,
     "metadata": {},
     "output_type": "execute_result"
    }
   ],
   "source": [
    "y_val[100]"
   ]
  },
  {
   "cell_type": "code",
   "execution_count": 46,
   "metadata": {},
   "outputs": [
    {
     "data": {
      "text/plain": [
       "0.05028386742921417"
      ]
     },
     "execution_count": 46,
     "metadata": {},
     "output_type": "execute_result"
    }
   ],
   "source": [
    "iou(y_val[100], a[0])"
   ]
  },
  {
   "cell_type": "code",
   "execution_count": 47,
   "metadata": {},
   "outputs": [
    {
     "data": {
      "text/plain": [
       "(40.481537, 186.07713, 0.0, 188.8379)"
      ]
     },
     "execution_count": 47,
     "metadata": {},
     "output_type": "execute_result"
    }
   ],
   "source": [
    "a[0][0], a[0][1], a[0][2], a[0][3]"
   ]
  },
  {
   "cell_type": "code",
   "execution_count": 49,
   "metadata": {},
   "outputs": [
    {
     "data": {
      "text/plain": [
       "array([102.55      , 151.9       ,  12.13333333, 216.06666667])"
      ]
     },
     "execution_count": 49,
     "metadata": {},
     "output_type": "execute_result"
    }
   ],
   "source": [
    "y_val[100]"
   ]
  },
  {
   "cell_type": "code",
   "execution_count": 50,
   "metadata": {},
   "outputs": [],
   "source": [
    "import matplotlib.pyplot as plt\n",
    "%matplotlib inline"
   ]
  },
  {
   "cell_type": "code",
   "execution_count": 51,
   "metadata": {},
   "outputs": [],
   "source": [
    "import matplotlib.patches as patches"
   ]
  },
  {
   "cell_type": "code",
   "execution_count": 52,
   "metadata": {},
   "outputs": [
    {
     "name": "stdout",
     "output_type": "stream",
     "text": [
      "Image is of shape (224, 224, 3)\n"
     ]
    },
    {
     "ename": "ValueError",
     "evalue": "Floating point image RGB values must be in the 0..1 range.",
     "output_type": "error",
     "traceback": [
      "\u001b[0;31m---------------------------------------------------------------------------\u001b[0m",
      "\u001b[0;31mValueError\u001b[0m                                Traceback (most recent call last)",
      "\u001b[0;32m/opt/anaconda/lib/python3.6/site-packages/IPython/core/formatters.py\u001b[0m in \u001b[0;36m__call__\u001b[0;34m(self, obj)\u001b[0m\n\u001b[1;32m    339\u001b[0m                 \u001b[0;32mpass\u001b[0m\u001b[0;34m\u001b[0m\u001b[0m\n\u001b[1;32m    340\u001b[0m             \u001b[0;32melse\u001b[0m\u001b[0;34m:\u001b[0m\u001b[0;34m\u001b[0m\u001b[0m\n\u001b[0;32m--> 341\u001b[0;31m                 \u001b[0;32mreturn\u001b[0m \u001b[0mprinter\u001b[0m\u001b[0;34m(\u001b[0m\u001b[0mobj\u001b[0m\u001b[0;34m)\u001b[0m\u001b[0;34m\u001b[0m\u001b[0m\n\u001b[0m\u001b[1;32m    342\u001b[0m             \u001b[0;31m# Finally look for special method names\u001b[0m\u001b[0;34m\u001b[0m\u001b[0;34m\u001b[0m\u001b[0m\n\u001b[1;32m    343\u001b[0m             \u001b[0mmethod\u001b[0m \u001b[0;34m=\u001b[0m \u001b[0mget_real_method\u001b[0m\u001b[0;34m(\u001b[0m\u001b[0mobj\u001b[0m\u001b[0;34m,\u001b[0m \u001b[0mself\u001b[0m\u001b[0;34m.\u001b[0m\u001b[0mprint_method\u001b[0m\u001b[0;34m)\u001b[0m\u001b[0;34m\u001b[0m\u001b[0m\n",
      "\u001b[0;32m/opt/anaconda/lib/python3.6/site-packages/IPython/core/pylabtools.py\u001b[0m in \u001b[0;36m<lambda>\u001b[0;34m(fig)\u001b[0m\n\u001b[1;32m    239\u001b[0m \u001b[0;34m\u001b[0m\u001b[0m\n\u001b[1;32m    240\u001b[0m     \u001b[0;32mif\u001b[0m \u001b[0;34m'png'\u001b[0m \u001b[0;32min\u001b[0m \u001b[0mformats\u001b[0m\u001b[0;34m:\u001b[0m\u001b[0;34m\u001b[0m\u001b[0m\n\u001b[0;32m--> 241\u001b[0;31m         \u001b[0mpng_formatter\u001b[0m\u001b[0;34m.\u001b[0m\u001b[0mfor_type\u001b[0m\u001b[0;34m(\u001b[0m\u001b[0mFigure\u001b[0m\u001b[0;34m,\u001b[0m \u001b[0;32mlambda\u001b[0m \u001b[0mfig\u001b[0m\u001b[0;34m:\u001b[0m \u001b[0mprint_figure\u001b[0m\u001b[0;34m(\u001b[0m\u001b[0mfig\u001b[0m\u001b[0;34m,\u001b[0m \u001b[0;34m'png'\u001b[0m\u001b[0;34m,\u001b[0m \u001b[0;34m**\u001b[0m\u001b[0mkwargs\u001b[0m\u001b[0;34m)\u001b[0m\u001b[0;34m)\u001b[0m\u001b[0;34m\u001b[0m\u001b[0m\n\u001b[0m\u001b[1;32m    242\u001b[0m     \u001b[0;32mif\u001b[0m \u001b[0;34m'retina'\u001b[0m \u001b[0;32min\u001b[0m \u001b[0mformats\u001b[0m \u001b[0;32mor\u001b[0m \u001b[0;34m'png2x'\u001b[0m \u001b[0;32min\u001b[0m \u001b[0mformats\u001b[0m\u001b[0;34m:\u001b[0m\u001b[0;34m\u001b[0m\u001b[0m\n\u001b[1;32m    243\u001b[0m         \u001b[0mpng_formatter\u001b[0m\u001b[0;34m.\u001b[0m\u001b[0mfor_type\u001b[0m\u001b[0;34m(\u001b[0m\u001b[0mFigure\u001b[0m\u001b[0;34m,\u001b[0m \u001b[0;32mlambda\u001b[0m \u001b[0mfig\u001b[0m\u001b[0;34m:\u001b[0m \u001b[0mretina_figure\u001b[0m\u001b[0;34m(\u001b[0m\u001b[0mfig\u001b[0m\u001b[0;34m,\u001b[0m \u001b[0;34m**\u001b[0m\u001b[0mkwargs\u001b[0m\u001b[0;34m)\u001b[0m\u001b[0;34m)\u001b[0m\u001b[0;34m\u001b[0m\u001b[0m\n",
      "\u001b[0;32m/opt/anaconda/lib/python3.6/site-packages/IPython/core/pylabtools.py\u001b[0m in \u001b[0;36mprint_figure\u001b[0;34m(fig, fmt, bbox_inches, **kwargs)\u001b[0m\n\u001b[1;32m    123\u001b[0m \u001b[0;34m\u001b[0m\u001b[0m\n\u001b[1;32m    124\u001b[0m     \u001b[0mbytes_io\u001b[0m \u001b[0;34m=\u001b[0m \u001b[0mBytesIO\u001b[0m\u001b[0;34m(\u001b[0m\u001b[0;34m)\u001b[0m\u001b[0;34m\u001b[0m\u001b[0m\n\u001b[0;32m--> 125\u001b[0;31m     \u001b[0mfig\u001b[0m\u001b[0;34m.\u001b[0m\u001b[0mcanvas\u001b[0m\u001b[0;34m.\u001b[0m\u001b[0mprint_figure\u001b[0m\u001b[0;34m(\u001b[0m\u001b[0mbytes_io\u001b[0m\u001b[0;34m,\u001b[0m \u001b[0;34m**\u001b[0m\u001b[0mkw\u001b[0m\u001b[0;34m)\u001b[0m\u001b[0;34m\u001b[0m\u001b[0m\n\u001b[0m\u001b[1;32m    126\u001b[0m     \u001b[0mdata\u001b[0m \u001b[0;34m=\u001b[0m \u001b[0mbytes_io\u001b[0m\u001b[0;34m.\u001b[0m\u001b[0mgetvalue\u001b[0m\u001b[0;34m(\u001b[0m\u001b[0;34m)\u001b[0m\u001b[0;34m\u001b[0m\u001b[0m\n\u001b[1;32m    127\u001b[0m     \u001b[0;32mif\u001b[0m \u001b[0mfmt\u001b[0m \u001b[0;34m==\u001b[0m \u001b[0;34m'svg'\u001b[0m\u001b[0;34m:\u001b[0m\u001b[0;34m\u001b[0m\u001b[0m\n",
      "\u001b[0;32m/opt/anaconda/lib/python3.6/site-packages/matplotlib/backend_bases.py\u001b[0m in \u001b[0;36mprint_figure\u001b[0;34m(self, filename, dpi, facecolor, edgecolor, orientation, format, **kwargs)\u001b[0m\n\u001b[1;32m   2206\u001b[0m                     \u001b[0morientation\u001b[0m\u001b[0;34m=\u001b[0m\u001b[0morientation\u001b[0m\u001b[0;34m,\u001b[0m\u001b[0;34m\u001b[0m\u001b[0m\n\u001b[1;32m   2207\u001b[0m                     \u001b[0mdryrun\u001b[0m\u001b[0;34m=\u001b[0m\u001b[0;32mTrue\u001b[0m\u001b[0;34m,\u001b[0m\u001b[0;34m\u001b[0m\u001b[0m\n\u001b[0;32m-> 2208\u001b[0;31m                     **kwargs)\n\u001b[0m\u001b[1;32m   2209\u001b[0m                 \u001b[0mrenderer\u001b[0m \u001b[0;34m=\u001b[0m \u001b[0mself\u001b[0m\u001b[0;34m.\u001b[0m\u001b[0mfigure\u001b[0m\u001b[0;34m.\u001b[0m\u001b[0m_cachedRenderer\u001b[0m\u001b[0;34m\u001b[0m\u001b[0m\n\u001b[1;32m   2210\u001b[0m                 \u001b[0mbbox_inches\u001b[0m \u001b[0;34m=\u001b[0m \u001b[0mself\u001b[0m\u001b[0;34m.\u001b[0m\u001b[0mfigure\u001b[0m\u001b[0;34m.\u001b[0m\u001b[0mget_tightbbox\u001b[0m\u001b[0;34m(\u001b[0m\u001b[0mrenderer\u001b[0m\u001b[0;34m)\u001b[0m\u001b[0;34m\u001b[0m\u001b[0m\n",
      "\u001b[0;32m/opt/anaconda/lib/python3.6/site-packages/matplotlib/backends/backend_agg.py\u001b[0m in \u001b[0;36mprint_png\u001b[0;34m(self, filename_or_obj, *args, **kwargs)\u001b[0m\n\u001b[1;32m    505\u001b[0m \u001b[0;34m\u001b[0m\u001b[0m\n\u001b[1;32m    506\u001b[0m     \u001b[0;32mdef\u001b[0m \u001b[0mprint_png\u001b[0m\u001b[0;34m(\u001b[0m\u001b[0mself\u001b[0m\u001b[0;34m,\u001b[0m \u001b[0mfilename_or_obj\u001b[0m\u001b[0;34m,\u001b[0m \u001b[0;34m*\u001b[0m\u001b[0margs\u001b[0m\u001b[0;34m,\u001b[0m \u001b[0;34m**\u001b[0m\u001b[0mkwargs\u001b[0m\u001b[0;34m)\u001b[0m\u001b[0;34m:\u001b[0m\u001b[0;34m\u001b[0m\u001b[0m\n\u001b[0;32m--> 507\u001b[0;31m         \u001b[0mFigureCanvasAgg\u001b[0m\u001b[0;34m.\u001b[0m\u001b[0mdraw\u001b[0m\u001b[0;34m(\u001b[0m\u001b[0mself\u001b[0m\u001b[0;34m)\u001b[0m\u001b[0;34m\u001b[0m\u001b[0m\n\u001b[0m\u001b[1;32m    508\u001b[0m         \u001b[0mrenderer\u001b[0m \u001b[0;34m=\u001b[0m \u001b[0mself\u001b[0m\u001b[0;34m.\u001b[0m\u001b[0mget_renderer\u001b[0m\u001b[0;34m(\u001b[0m\u001b[0;34m)\u001b[0m\u001b[0;34m\u001b[0m\u001b[0m\n\u001b[1;32m    509\u001b[0m         \u001b[0moriginal_dpi\u001b[0m \u001b[0;34m=\u001b[0m \u001b[0mrenderer\u001b[0m\u001b[0;34m.\u001b[0m\u001b[0mdpi\u001b[0m\u001b[0;34m\u001b[0m\u001b[0m\n",
      "\u001b[0;32m/opt/anaconda/lib/python3.6/site-packages/matplotlib/backends/backend_agg.py\u001b[0m in \u001b[0;36mdraw\u001b[0;34m(self)\u001b[0m\n\u001b[1;32m    428\u001b[0m             \u001b[0;32mif\u001b[0m \u001b[0mtoolbar\u001b[0m\u001b[0;34m:\u001b[0m\u001b[0;34m\u001b[0m\u001b[0m\n\u001b[1;32m    429\u001b[0m                 \u001b[0mtoolbar\u001b[0m\u001b[0;34m.\u001b[0m\u001b[0mset_cursor\u001b[0m\u001b[0;34m(\u001b[0m\u001b[0mcursors\u001b[0m\u001b[0;34m.\u001b[0m\u001b[0mWAIT\u001b[0m\u001b[0;34m)\u001b[0m\u001b[0;34m\u001b[0m\u001b[0m\n\u001b[0;32m--> 430\u001b[0;31m             \u001b[0mself\u001b[0m\u001b[0;34m.\u001b[0m\u001b[0mfigure\u001b[0m\u001b[0;34m.\u001b[0m\u001b[0mdraw\u001b[0m\u001b[0;34m(\u001b[0m\u001b[0mself\u001b[0m\u001b[0;34m.\u001b[0m\u001b[0mrenderer\u001b[0m\u001b[0;34m)\u001b[0m\u001b[0;34m\u001b[0m\u001b[0m\n\u001b[0m\u001b[1;32m    431\u001b[0m         \u001b[0;32mfinally\u001b[0m\u001b[0;34m:\u001b[0m\u001b[0;34m\u001b[0m\u001b[0m\n\u001b[1;32m    432\u001b[0m             \u001b[0;32mif\u001b[0m \u001b[0mtoolbar\u001b[0m\u001b[0;34m:\u001b[0m\u001b[0;34m\u001b[0m\u001b[0m\n",
      "\u001b[0;32m/opt/anaconda/lib/python3.6/site-packages/matplotlib/artist.py\u001b[0m in \u001b[0;36mdraw_wrapper\u001b[0;34m(artist, renderer, *args, **kwargs)\u001b[0m\n\u001b[1;32m     53\u001b[0m                 \u001b[0mrenderer\u001b[0m\u001b[0;34m.\u001b[0m\u001b[0mstart_filter\u001b[0m\u001b[0;34m(\u001b[0m\u001b[0;34m)\u001b[0m\u001b[0;34m\u001b[0m\u001b[0m\n\u001b[1;32m     54\u001b[0m \u001b[0;34m\u001b[0m\u001b[0m\n\u001b[0;32m---> 55\u001b[0;31m             \u001b[0;32mreturn\u001b[0m \u001b[0mdraw\u001b[0m\u001b[0;34m(\u001b[0m\u001b[0martist\u001b[0m\u001b[0;34m,\u001b[0m \u001b[0mrenderer\u001b[0m\u001b[0;34m,\u001b[0m \u001b[0;34m*\u001b[0m\u001b[0margs\u001b[0m\u001b[0;34m,\u001b[0m \u001b[0;34m**\u001b[0m\u001b[0mkwargs\u001b[0m\u001b[0;34m)\u001b[0m\u001b[0;34m\u001b[0m\u001b[0m\n\u001b[0m\u001b[1;32m     56\u001b[0m         \u001b[0;32mfinally\u001b[0m\u001b[0;34m:\u001b[0m\u001b[0;34m\u001b[0m\u001b[0m\n\u001b[1;32m     57\u001b[0m             \u001b[0;32mif\u001b[0m \u001b[0martist\u001b[0m\u001b[0;34m.\u001b[0m\u001b[0mget_agg_filter\u001b[0m\u001b[0;34m(\u001b[0m\u001b[0;34m)\u001b[0m \u001b[0;32mis\u001b[0m \u001b[0;32mnot\u001b[0m \u001b[0;32mNone\u001b[0m\u001b[0;34m:\u001b[0m\u001b[0;34m\u001b[0m\u001b[0m\n",
      "\u001b[0;32m/opt/anaconda/lib/python3.6/site-packages/matplotlib/figure.py\u001b[0m in \u001b[0;36mdraw\u001b[0;34m(self, renderer)\u001b[0m\n\u001b[1;32m   1293\u001b[0m \u001b[0;34m\u001b[0m\u001b[0m\n\u001b[1;32m   1294\u001b[0m             mimage._draw_list_compositing_images(\n\u001b[0;32m-> 1295\u001b[0;31m                 renderer, self, artists, self.suppressComposite)\n\u001b[0m\u001b[1;32m   1296\u001b[0m \u001b[0;34m\u001b[0m\u001b[0m\n\u001b[1;32m   1297\u001b[0m             \u001b[0mrenderer\u001b[0m\u001b[0;34m.\u001b[0m\u001b[0mclose_group\u001b[0m\u001b[0;34m(\u001b[0m\u001b[0;34m'figure'\u001b[0m\u001b[0;34m)\u001b[0m\u001b[0;34m\u001b[0m\u001b[0m\n",
      "\u001b[0;32m/opt/anaconda/lib/python3.6/site-packages/matplotlib/image.py\u001b[0m in \u001b[0;36m_draw_list_compositing_images\u001b[0;34m(renderer, parent, artists, suppress_composite)\u001b[0m\n\u001b[1;32m    136\u001b[0m     \u001b[0;32mif\u001b[0m \u001b[0mnot_composite\u001b[0m \u001b[0;32mor\u001b[0m \u001b[0;32mnot\u001b[0m \u001b[0mhas_images\u001b[0m\u001b[0;34m:\u001b[0m\u001b[0;34m\u001b[0m\u001b[0m\n\u001b[1;32m    137\u001b[0m         \u001b[0;32mfor\u001b[0m \u001b[0ma\u001b[0m \u001b[0;32min\u001b[0m \u001b[0martists\u001b[0m\u001b[0;34m:\u001b[0m\u001b[0;34m\u001b[0m\u001b[0m\n\u001b[0;32m--> 138\u001b[0;31m             \u001b[0ma\u001b[0m\u001b[0;34m.\u001b[0m\u001b[0mdraw\u001b[0m\u001b[0;34m(\u001b[0m\u001b[0mrenderer\u001b[0m\u001b[0;34m)\u001b[0m\u001b[0;34m\u001b[0m\u001b[0m\n\u001b[0m\u001b[1;32m    139\u001b[0m     \u001b[0;32melse\u001b[0m\u001b[0;34m:\u001b[0m\u001b[0;34m\u001b[0m\u001b[0m\n\u001b[1;32m    140\u001b[0m         \u001b[0;31m# Composite any adjacent images together\u001b[0m\u001b[0;34m\u001b[0m\u001b[0;34m\u001b[0m\u001b[0m\n",
      "\u001b[0;32m/opt/anaconda/lib/python3.6/site-packages/matplotlib/artist.py\u001b[0m in \u001b[0;36mdraw_wrapper\u001b[0;34m(artist, renderer, *args, **kwargs)\u001b[0m\n\u001b[1;32m     53\u001b[0m                 \u001b[0mrenderer\u001b[0m\u001b[0;34m.\u001b[0m\u001b[0mstart_filter\u001b[0m\u001b[0;34m(\u001b[0m\u001b[0;34m)\u001b[0m\u001b[0;34m\u001b[0m\u001b[0m\n\u001b[1;32m     54\u001b[0m \u001b[0;34m\u001b[0m\u001b[0m\n\u001b[0;32m---> 55\u001b[0;31m             \u001b[0;32mreturn\u001b[0m \u001b[0mdraw\u001b[0m\u001b[0;34m(\u001b[0m\u001b[0martist\u001b[0m\u001b[0;34m,\u001b[0m \u001b[0mrenderer\u001b[0m\u001b[0;34m,\u001b[0m \u001b[0;34m*\u001b[0m\u001b[0margs\u001b[0m\u001b[0;34m,\u001b[0m \u001b[0;34m**\u001b[0m\u001b[0mkwargs\u001b[0m\u001b[0;34m)\u001b[0m\u001b[0;34m\u001b[0m\u001b[0m\n\u001b[0m\u001b[1;32m     56\u001b[0m         \u001b[0;32mfinally\u001b[0m\u001b[0;34m:\u001b[0m\u001b[0;34m\u001b[0m\u001b[0m\n\u001b[1;32m     57\u001b[0m             \u001b[0;32mif\u001b[0m \u001b[0martist\u001b[0m\u001b[0;34m.\u001b[0m\u001b[0mget_agg_filter\u001b[0m\u001b[0;34m(\u001b[0m\u001b[0;34m)\u001b[0m \u001b[0;32mis\u001b[0m \u001b[0;32mnot\u001b[0m \u001b[0;32mNone\u001b[0m\u001b[0;34m:\u001b[0m\u001b[0;34m\u001b[0m\u001b[0m\n",
      "\u001b[0;32m/opt/anaconda/lib/python3.6/site-packages/matplotlib/axes/_base.py\u001b[0m in \u001b[0;36mdraw\u001b[0;34m(self, renderer, inframe)\u001b[0m\n\u001b[1;32m   2397\u001b[0m             \u001b[0mrenderer\u001b[0m\u001b[0;34m.\u001b[0m\u001b[0mstop_rasterizing\u001b[0m\u001b[0;34m(\u001b[0m\u001b[0;34m)\u001b[0m\u001b[0;34m\u001b[0m\u001b[0m\n\u001b[1;32m   2398\u001b[0m \u001b[0;34m\u001b[0m\u001b[0m\n\u001b[0;32m-> 2399\u001b[0;31m         \u001b[0mmimage\u001b[0m\u001b[0;34m.\u001b[0m\u001b[0m_draw_list_compositing_images\u001b[0m\u001b[0;34m(\u001b[0m\u001b[0mrenderer\u001b[0m\u001b[0;34m,\u001b[0m \u001b[0mself\u001b[0m\u001b[0;34m,\u001b[0m \u001b[0martists\u001b[0m\u001b[0;34m)\u001b[0m\u001b[0;34m\u001b[0m\u001b[0m\n\u001b[0m\u001b[1;32m   2400\u001b[0m \u001b[0;34m\u001b[0m\u001b[0m\n\u001b[1;32m   2401\u001b[0m         \u001b[0mrenderer\u001b[0m\u001b[0;34m.\u001b[0m\u001b[0mclose_group\u001b[0m\u001b[0;34m(\u001b[0m\u001b[0;34m'axes'\u001b[0m\u001b[0;34m)\u001b[0m\u001b[0;34m\u001b[0m\u001b[0m\n",
      "\u001b[0;32m/opt/anaconda/lib/python3.6/site-packages/matplotlib/image.py\u001b[0m in \u001b[0;36m_draw_list_compositing_images\u001b[0;34m(renderer, parent, artists, suppress_composite)\u001b[0m\n\u001b[1;32m    136\u001b[0m     \u001b[0;32mif\u001b[0m \u001b[0mnot_composite\u001b[0m \u001b[0;32mor\u001b[0m \u001b[0;32mnot\u001b[0m \u001b[0mhas_images\u001b[0m\u001b[0;34m:\u001b[0m\u001b[0;34m\u001b[0m\u001b[0m\n\u001b[1;32m    137\u001b[0m         \u001b[0;32mfor\u001b[0m \u001b[0ma\u001b[0m \u001b[0;32min\u001b[0m \u001b[0martists\u001b[0m\u001b[0;34m:\u001b[0m\u001b[0;34m\u001b[0m\u001b[0m\n\u001b[0;32m--> 138\u001b[0;31m             \u001b[0ma\u001b[0m\u001b[0;34m.\u001b[0m\u001b[0mdraw\u001b[0m\u001b[0;34m(\u001b[0m\u001b[0mrenderer\u001b[0m\u001b[0;34m)\u001b[0m\u001b[0;34m\u001b[0m\u001b[0m\n\u001b[0m\u001b[1;32m    139\u001b[0m     \u001b[0;32melse\u001b[0m\u001b[0;34m:\u001b[0m\u001b[0;34m\u001b[0m\u001b[0m\n\u001b[1;32m    140\u001b[0m         \u001b[0;31m# Composite any adjacent images together\u001b[0m\u001b[0;34m\u001b[0m\u001b[0;34m\u001b[0m\u001b[0m\n",
      "\u001b[0;32m/opt/anaconda/lib/python3.6/site-packages/matplotlib/artist.py\u001b[0m in \u001b[0;36mdraw_wrapper\u001b[0;34m(artist, renderer, *args, **kwargs)\u001b[0m\n\u001b[1;32m     53\u001b[0m                 \u001b[0mrenderer\u001b[0m\u001b[0;34m.\u001b[0m\u001b[0mstart_filter\u001b[0m\u001b[0;34m(\u001b[0m\u001b[0;34m)\u001b[0m\u001b[0;34m\u001b[0m\u001b[0m\n\u001b[1;32m     54\u001b[0m \u001b[0;34m\u001b[0m\u001b[0m\n\u001b[0;32m---> 55\u001b[0;31m             \u001b[0;32mreturn\u001b[0m \u001b[0mdraw\u001b[0m\u001b[0;34m(\u001b[0m\u001b[0martist\u001b[0m\u001b[0;34m,\u001b[0m \u001b[0mrenderer\u001b[0m\u001b[0;34m,\u001b[0m \u001b[0;34m*\u001b[0m\u001b[0margs\u001b[0m\u001b[0;34m,\u001b[0m \u001b[0;34m**\u001b[0m\u001b[0mkwargs\u001b[0m\u001b[0;34m)\u001b[0m\u001b[0;34m\u001b[0m\u001b[0m\n\u001b[0m\u001b[1;32m     56\u001b[0m         \u001b[0;32mfinally\u001b[0m\u001b[0;34m:\u001b[0m\u001b[0;34m\u001b[0m\u001b[0m\n\u001b[1;32m     57\u001b[0m             \u001b[0;32mif\u001b[0m \u001b[0martist\u001b[0m\u001b[0;34m.\u001b[0m\u001b[0mget_agg_filter\u001b[0m\u001b[0;34m(\u001b[0m\u001b[0;34m)\u001b[0m \u001b[0;32mis\u001b[0m \u001b[0;32mnot\u001b[0m \u001b[0;32mNone\u001b[0m\u001b[0;34m:\u001b[0m\u001b[0;34m\u001b[0m\u001b[0m\n",
      "\u001b[0;32m/opt/anaconda/lib/python3.6/site-packages/matplotlib/image.py\u001b[0m in \u001b[0;36mdraw\u001b[0;34m(self, renderer, *args, **kwargs)\u001b[0m\n\u001b[1;32m    546\u001b[0m         \u001b[0;32melse\u001b[0m\u001b[0;34m:\u001b[0m\u001b[0;34m\u001b[0m\u001b[0m\n\u001b[1;32m    547\u001b[0m             im, l, b, trans = self.make_image(\n\u001b[0;32m--> 548\u001b[0;31m                 renderer, renderer.get_image_magnification())\n\u001b[0m\u001b[1;32m    549\u001b[0m             \u001b[0;32mif\u001b[0m \u001b[0mim\u001b[0m \u001b[0;32mis\u001b[0m \u001b[0;32mnot\u001b[0m \u001b[0;32mNone\u001b[0m\u001b[0;34m:\u001b[0m\u001b[0;34m\u001b[0m\u001b[0m\n\u001b[1;32m    550\u001b[0m                 \u001b[0mrenderer\u001b[0m\u001b[0;34m.\u001b[0m\u001b[0mdraw_image\u001b[0m\u001b[0;34m(\u001b[0m\u001b[0mgc\u001b[0m\u001b[0;34m,\u001b[0m \u001b[0ml\u001b[0m\u001b[0;34m,\u001b[0m \u001b[0mb\u001b[0m\u001b[0;34m,\u001b[0m \u001b[0mim\u001b[0m\u001b[0;34m)\u001b[0m\u001b[0;34m\u001b[0m\u001b[0m\n",
      "\u001b[0;32m/opt/anaconda/lib/python3.6/site-packages/matplotlib/image.py\u001b[0m in \u001b[0;36mmake_image\u001b[0;34m(self, renderer, magnification, unsampled)\u001b[0m\n\u001b[1;32m    772\u001b[0m         return self._make_image(\n\u001b[1;32m    773\u001b[0m             \u001b[0mself\u001b[0m\u001b[0;34m.\u001b[0m\u001b[0m_A\u001b[0m\u001b[0;34m,\u001b[0m \u001b[0mbbox\u001b[0m\u001b[0;34m,\u001b[0m \u001b[0mtransformed_bbox\u001b[0m\u001b[0;34m,\u001b[0m \u001b[0mself\u001b[0m\u001b[0;34m.\u001b[0m\u001b[0maxes\u001b[0m\u001b[0;34m.\u001b[0m\u001b[0mbbox\u001b[0m\u001b[0;34m,\u001b[0m \u001b[0mmagnification\u001b[0m\u001b[0;34m,\u001b[0m\u001b[0;34m\u001b[0m\u001b[0m\n\u001b[0;32m--> 774\u001b[0;31m             unsampled=unsampled)\n\u001b[0m\u001b[1;32m    775\u001b[0m \u001b[0;34m\u001b[0m\u001b[0m\n\u001b[1;32m    776\u001b[0m     \u001b[0;32mdef\u001b[0m \u001b[0m_check_unsampled_image\u001b[0m\u001b[0;34m(\u001b[0m\u001b[0mself\u001b[0m\u001b[0;34m,\u001b[0m \u001b[0mrenderer\u001b[0m\u001b[0;34m)\u001b[0m\u001b[0;34m:\u001b[0m\u001b[0;34m\u001b[0m\u001b[0m\n",
      "\u001b[0;32m/opt/anaconda/lib/python3.6/site-packages/matplotlib/image.py\u001b[0m in \u001b[0;36m_make_image\u001b[0;34m(self, A, in_bbox, out_bbox, clip_bbox, magnification, unsampled, round_to_pixel_border)\u001b[0m\n\u001b[1;32m    464\u001b[0m             \u001b[0;31m# (of int or float)\u001b[0m\u001b[0;34m\u001b[0m\u001b[0;34m\u001b[0m\u001b[0m\n\u001b[1;32m    465\u001b[0m             \u001b[0;31m# or an RGBA array of re-sampled input\u001b[0m\u001b[0;34m\u001b[0m\u001b[0;34m\u001b[0m\u001b[0m\n\u001b[0;32m--> 466\u001b[0;31m             \u001b[0moutput\u001b[0m \u001b[0;34m=\u001b[0m \u001b[0mself\u001b[0m\u001b[0;34m.\u001b[0m\u001b[0mto_rgba\u001b[0m\u001b[0;34m(\u001b[0m\u001b[0moutput\u001b[0m\u001b[0;34m,\u001b[0m \u001b[0mbytes\u001b[0m\u001b[0;34m=\u001b[0m\u001b[0;32mTrue\u001b[0m\u001b[0;34m,\u001b[0m \u001b[0mnorm\u001b[0m\u001b[0;34m=\u001b[0m\u001b[0;32mFalse\u001b[0m\u001b[0;34m)\u001b[0m\u001b[0;34m\u001b[0m\u001b[0m\n\u001b[0m\u001b[1;32m    467\u001b[0m             \u001b[0;31m# output is now a correctly sized RGBA array of uint8\u001b[0m\u001b[0;34m\u001b[0m\u001b[0;34m\u001b[0m\u001b[0m\n\u001b[1;32m    468\u001b[0m \u001b[0;34m\u001b[0m\u001b[0m\n",
      "\u001b[0;32m/opt/anaconda/lib/python3.6/site-packages/matplotlib/cm.py\u001b[0m in \u001b[0;36mto_rgba\u001b[0;34m(self, x, alpha, bytes, norm)\u001b[0m\n\u001b[1;32m    255\u001b[0m                 \u001b[0;32mif\u001b[0m \u001b[0mxx\u001b[0m\u001b[0;34m.\u001b[0m\u001b[0mdtype\u001b[0m\u001b[0;34m.\u001b[0m\u001b[0mkind\u001b[0m \u001b[0;34m==\u001b[0m \u001b[0;34m'f'\u001b[0m\u001b[0;34m:\u001b[0m\u001b[0;34m\u001b[0m\u001b[0m\n\u001b[1;32m    256\u001b[0m                     \u001b[0;32mif\u001b[0m \u001b[0mnorm\u001b[0m \u001b[0;32mand\u001b[0m \u001b[0mxx\u001b[0m\u001b[0;34m.\u001b[0m\u001b[0mmax\u001b[0m\u001b[0;34m(\u001b[0m\u001b[0;34m)\u001b[0m \u001b[0;34m>\u001b[0m \u001b[0;36m1\u001b[0m \u001b[0;32mor\u001b[0m \u001b[0mxx\u001b[0m\u001b[0;34m.\u001b[0m\u001b[0mmin\u001b[0m\u001b[0;34m(\u001b[0m\u001b[0;34m)\u001b[0m \u001b[0;34m<\u001b[0m \u001b[0;36m0\u001b[0m\u001b[0;34m:\u001b[0m\u001b[0;34m\u001b[0m\u001b[0m\n\u001b[0;32m--> 257\u001b[0;31m                         raise ValueError(\"Floating point image RGB values \"\n\u001b[0m\u001b[1;32m    258\u001b[0m                                          \"must be in the 0..1 range.\")\n\u001b[1;32m    259\u001b[0m                     \u001b[0;32mif\u001b[0m \u001b[0mbytes\u001b[0m\u001b[0;34m:\u001b[0m\u001b[0;34m\u001b[0m\u001b[0m\n",
      "\u001b[0;31mValueError\u001b[0m: Floating point image RGB values must be in the 0..1 range."
     ]
    },
    {
     "data": {
      "text/plain": [
       "<matplotlib.figure.Figure at 0x7fc45d36b7f0>"
      ]
     },
     "metadata": {},
     "output_type": "display_data"
    }
   ],
   "source": [
    "fig = plt.figure()\n",
    "\n",
    "# define axis\n",
    "ax = fig.add_axes([0, 0, 1, 1])\n",
    "\n",
    "# plot image\n",
    "plt.imshow(X_val[100])\n",
    "    \n",
    "# for each row\n",
    "xmin = a[0][0]\n",
    "xmax = a[0][1]\n",
    "ymin = a[0][2]\n",
    "ymax = a[0][3]\n",
    "width = xmax - xmin\n",
    "height = ymax - ymin\n",
    "xmin_t = y_val[100][0]\n",
    "xmax_t = y_val[100][1]\n",
    "ymin_t = y_val[100][2]\n",
    "ymax_t = y_val[100][3]\n",
    "width_t = xmax_t - xmin_t\n",
    "height_t = ymax_t - ymin_t\n",
    "# create rectangular patch\n",
    "rect = patches.Rectangle((xmin, ymin), width, height, edgecolor='r', facecolor='none')\n",
    "rect_t = patches.Rectangle((xmin_t, ymin_t), width_t, height_t, edgecolor='b', facecolor='none')\n",
    "\n",
    "\n",
    "# add patch\n",
    "ax.add_patch(rect)\n",
    "ax.add_patch(rect_t)\n",
    "\n",
    "# print image shape\n",
    "print('Image is of shape', X_val[100].shape)\n",
    "\n",
    "# show figure\n",
    "plt.show()"
   ]
  },
  {
   "cell_type": "code",
   "execution_count": 34,
   "metadata": {},
   "outputs": [],
   "source": [
    "test = pd.read_csv('test.csv')"
   ]
  },
  {
   "cell_type": "code",
   "execution_count": null,
   "metadata": {},
   "outputs": [
    {
     "name": "stderr",
     "output_type": "stream",
     "text": [
      "  1%|▏         | 171/12815 [00:11<14:47, 14.25it/s]"
     ]
    }
   ],
   "source": [
    "test_image = []\n",
    "for i in tqdm(range(test.shape[0])):\n",
    "    img = image.load_img('image/'+test['image_name'][i])\n",
    "    img = image.img_to_array(img)\n",
    "    img = img/255\n",
    "    test_image.append(img)"
   ]
  },
  {
   "cell_type": "code",
   "execution_count": 38,
   "metadata": {},
   "outputs": [],
   "source": [
    "test_img = np.array(test_image)"
   ]
  },
  {
   "cell_type": "code",
   "execution_count": 39,
   "metadata": {},
   "outputs": [],
   "source": [
    "prediction = model.predict(test_img)"
   ]
  },
  {
   "cell_type": "code",
   "execution_count": 40,
   "metadata": {},
   "outputs": [
    {
     "data": {
      "text/plain": [
       "array([[ 77.7068  , 156.73837 ,  43.196823, 196.85855 ],\n",
       "       [ 26.705091, 207.05856 ,  66.50794 , 165.54836 ],\n",
       "       [ 50.838093, 177.92654 ,  30.402842, 201.71997 ],\n",
       "       ...,\n",
       "       [ 45.17058 , 151.79576 ,  23.034782, 208.54643 ],\n",
       "       [ 76.304924, 190.95123 ,  69.83866 , 172.39421 ],\n",
       "       [  4.519477, 213.98904 ,  50.113125, 172.20049 ]], dtype=float32)"
      ]
     },
     "execution_count": 40,
     "metadata": {},
     "output_type": "execute_result"
    }
   ],
   "source": [
    "prediction"
   ]
  },
  {
   "cell_type": "code",
   "execution_count": 41,
   "metadata": {},
   "outputs": [
    {
     "name": "stdout",
     "output_type": "stream",
     "text": [
      "Image is of shape (224, 224, 3)\n"
     ]
    },
    {
     "data": {
      "image/png": "[encoded data removed]",
      "text/plain": [
       "<matplotlib.figure.Figure at 0x7efb1c47a978>"
      ]
     },
     "metadata": {},
     "output_type": "display_data"
    }
   ],
   "source": [
    "fig = plt.figure()\n",
    "\n",
    "# define axis\n",
    "ax = fig.add_axes([0, 0, 1, 1])\n",
    "\n",
    "# plot image\n",
    "plt.imshow(test_image[1])\n",
    "    \n",
    "# for each row\n",
    "xmin = prediction[1][0]\n",
    "xmax = prediction[1][1]\n",
    "ymin = prediction[1][2]\n",
    "ymax = prediction[1][3]\n",
    "width = xmax - xmin\n",
    "height = ymax - ymin\n",
    "\n",
    "# create rectangular patch\n",
    "rect = patches.Rectangle((xmin, ymin), width, height, edgecolor='r', facecolor='none')\n",
    "\n",
    "\n",
    "# add patch\n",
    "ax.add_patch(rect)\n",
    "\n",
    "# print image shape\n",
    "print('Image is of shape', test_image[1].shape)\n",
    "\n",
    "# show figure\n",
    "plt.show()"
   ]
  },
  {
   "cell_type": "code",
   "execution_count": 50,
   "metadata": {},
   "outputs": [],
   "source": [
    "test['x1'] = (prediction[:,0]*x_div).astype('int64')\n",
    "test['x2'] = (prediction[:,1]*x_div).astype('int64')\n",
    "test['y1'] = (prediction[:,2]*y_div).astype('int64')\n",
    "test['y2'] = (prediction[:,3]*y_div).astype('int64')"
   ]
  },
  {
   "cell_type": "code",
   "execution_count": 51,
   "metadata": {},
   "outputs": [],
   "source": [
    "img = image.load_img('image/'+test['image_name'][1])\n",
    "img = image.img_to_array(img)\n",
    "img = img/255"
   ]
  },
  {
   "cell_type": "code",
   "execution_count": 52,
   "metadata": {},
   "outputs": [
    {
     "name": "stdout",
     "output_type": "stream",
     "text": [
      "Image is of shape (480, 640, 3)\n"
     ]
    },
    {
     "data": {
      "image/png": "[encoded data removed]",
      "text/plain": [
       "<matplotlib.figure.Figure at 0x7ef6963f6b00>"
      ]
     },
     "metadata": {},
     "output_type": "display_data"
    }
   ],
   "source": [
    "fig = plt.figure()\n",
    "\n",
    "# define axis\n",
    "ax = fig.add_axes([0, 0, 1, 1])\n",
    "\n",
    "# plot image\n",
    "plt.imshow(img)\n",
    "    \n",
    "# for each row\n",
    "xmin = test['x1'][1]\n",
    "xmax = test['x2'][1]\n",
    "ymin = test['y1'][1]\n",
    "ymax = test['y2'][1]\n",
    "width = xmax - xmin\n",
    "height = ymax - ymin\n",
    "\n",
    "# create rectangular patch\n",
    "rect = patches.Rectangle((xmin, ymin), width, height, edgecolor='r', facecolor='none')\n",
    "\n",
    "\n",
    "# add patch\n",
    "ax.add_patch(rect)\n",
    "\n",
    "# print image shape\n",
    "print('Image is of shape', img.shape)\n",
    "\n",
    "# show figure\n",
    "plt.show()"
   ]
  },
  {
   "cell_type": "code",
   "execution_count": 53,
   "metadata": {},
   "outputs": [
    {
     "data": {
      "text/html": [
       "<div>\n",
       "<style scoped>\n",
       "    .dataframe tbody tr th:only-of-type {\n",
       "        vertical-align: middle;\n",
       "    }\n",
       "\n",
       "    .dataframe tbody tr th {\n",
       "        vertical-align: top;\n",
       "    }\n",
       "\n",
       "    .dataframe thead th {\n",
       "        text-align: right;\n",
       "    }\n",
       "</style>\n",
       "<table border=\"1\" class=\"dataframe\">\n",
       "  <thead>\n",
       "    <tr style=\"text-align: right;\">\n",
       "      <th></th>\n",
       "      <th>image_name</th>\n",
       "      <th>x1</th>\n",
       "      <th>x2</th>\n",
       "      <th>y1</th>\n",
       "      <th>y2</th>\n",
       "    </tr>\n",
       "  </thead>\n",
       "  <tbody>\n",
       "    <tr>\n",
       "      <th>0</th>\n",
       "      <td>1474723840903DSC08089.png</td>\n",
       "      <td>222</td>\n",
       "      <td>447</td>\n",
       "      <td>92</td>\n",
       "      <td>421</td>\n",
       "    </tr>\n",
       "    <tr>\n",
       "      <th>1</th>\n",
       "      <td>1473231475010DeeplearnS11276.png</td>\n",
       "      <td>76</td>\n",
       "      <td>591</td>\n",
       "      <td>142</td>\n",
       "      <td>354</td>\n",
       "    </tr>\n",
       "    <tr>\n",
       "      <th>2</th>\n",
       "      <td>JPEG_20161205_135307_1000155917326.png</td>\n",
       "      <td>145</td>\n",
       "      <td>508</td>\n",
       "      <td>65</td>\n",
       "      <td>432</td>\n",
       "    </tr>\n",
       "    <tr>\n",
       "      <th>3</th>\n",
       "      <td>JPEG_20160711_123440_1000518778437.png</td>\n",
       "      <td>208</td>\n",
       "      <td>438</td>\n",
       "      <td>96</td>\n",
       "      <td>425</td>\n",
       "    </tr>\n",
       "    <tr>\n",
       "      <th>4</th>\n",
       "      <td>JPEG_20160803_115329_100034020722.png</td>\n",
       "      <td>71</td>\n",
       "      <td>530</td>\n",
       "      <td>46</td>\n",
       "      <td>445</td>\n",
       "    </tr>\n",
       "  </tbody>\n",
       "</table>\n",
       "</div>"
      ],
      "text/plain": [
       "                               image_name   x1   x2   y1   y2\n",
       "0               1474723840903DSC08089.png  222  447   92  421\n",
       "1        1473231475010DeeplearnS11276.png   76  591  142  354\n",
       "2  JPEG_20161205_135307_1000155917326.png  145  508   65  432\n",
       "3  JPEG_20160711_123440_1000518778437.png  208  438   96  425\n",
       "4   JPEG_20160803_115329_100034020722.png   71  530   46  445"
      ]
     },
     "execution_count": 53,
     "metadata": {},
     "output_type": "execute_result"
    }
   ],
   "source": [
    "test.head()"
   ]
  },
  {
   "cell_type": "code",
   "execution_count": 54,
   "metadata": {},
   "outputs": [],
   "source": [
    "test.to_csv('submission_1.csv', header=True, index=False)"
   ]
  },
  {
   "cell_type": "code",
   "execution_count": null,
   "metadata": {},
   "outputs": [],
   "source": []
  }
 ],
 "metadata": {
  "kernelspec": {
   "display_name": "Python 3",
   "language": "python",
   "name": "python3"
  },
  "language_info": {
   "codemirror_mode": {
    "name": "ipython",
    "version": 3
   },
   "file_extension": ".py",
   "mimetype": "text/x-python",
   "name": "python",
   "nbconvert_exporter": "python",
   "pygments_lexer": "ipython3",
   "version": "3.6.2"
  }
 },
 "nbformat": 4,
 "nbformat_minor": 2
}
